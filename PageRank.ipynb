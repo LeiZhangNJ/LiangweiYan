{
 "cells": [
  {
   "cell_type": "code",
   "execution_count": 6,
   "metadata": {},
   "outputs": [],
   "source": [
    "#import numpy as np\n",
    "#from operator import itemgetter\n",
    "#from igraph import Graph as IGraph\n",
    "#igraph_pagerank"
   ]
  },
  {
   "cell_type": "code",
   "execution_count": 7,
   "metadata": {},
   "outputs": [],
   "source": [
    "from sklearn.cluster import DBSCAN\n",
    "from sklearn.manifold import TSNE\n",
    "from gensim.models import Word2Vec\n",
    "import matplotlib.pyplot as plt\n",
    "import pandas as pd\n",
    "import numpy as np\n",
    "import random"
   ]
  },
  {
   "cell_type": "code",
   "execution_count": 8,
   "metadata": {},
   "outputs": [],
   "source": [
    "tsne = TSNE(n_components=2,early_exaggeration=12.0,learning_rate=200,n_iter=10000,init='pca')\n",
    "\n",
    "dbscan = DBSCAN(eps=2.75, min_samples=8)"
   ]
  },
  {
   "cell_type": "code",
   "execution_count": 9,
   "metadata": {},
   "outputs": [],
   "source": [
    "S1 = ['He','Li','Be','Ne','Na','Ma','Al','Si','Cl','Ar','Ca','Sc','Ti','V','Cr','Mn','Fe','Co','Ni','Cu','Zn','Ga','Ge','As','Se','Br','Kr','Rb','Sr','Y','Zr','Nb','Mo','Tc','Ru','Rh','Pd','Ag','Cd','In','Sn','Sb','Te','Xe','Cs','Ba','La','Ce','Pr','Nd','Pm','Sm','Eu','Gd','Tb','Dy','Ho','Er','Tm','Yb','Lu','Hf','Ta','W','Re','Os','Ir','Pt','Au','Hg','Tl','Pb','Bi','Po','At','Rn','Fr','Ra','Ac','Th','Pa','U','Np','Pu','Am','Cm','Bk','Cf','Es','Fm','Md','No','Lr']\n",
    "S2 = ['He','Hf','Hg','Ho']\n",
    "S3 = ['Be','Br','Ba','Bi','Bk']\n",
    "S4 = ['Cl','Ca','Cr','Co','Cu','Cd','Cs','Ce','Cm','Cf']\n",
    "S5 = ['Nb','Ne','Na','Ni','Nd','Np','No']\n",
    "S6 = ['Os']\n",
    "S7 = ['Fr','Fe','Fm']\n",
    "S8 = ['Pd','Pr','Pm','Pt','Pb','Po','Pa','Pu']\n",
    "S9 = ['Sc','Sr','Sn','Sb','Sm','Si','Se']\n",
    "S10 = ['Kr']\n",
    "S11 = ['Yb']\n",
    "S12 = ['I','In','Tl','Ir']\n",
    "\n",
    "def JiShu(tmp,outfile):\n",
    "    word = tmp\n",
    "    w = []\n",
    "    s = []\n",
    "    \n",
    "    for a in S1:\n",
    "        i = 0\n",
    "        for b in word:\n",
    "            i = b.count(a) + i\n",
    "    s.append(i)\n",
    "    w.append(a)\n",
    "\n",
    "    j = 0\n",
    "    for b in word:\n",
    "        j = b.count('H') + j\n",
    "    for a in S2:\n",
    "        for b in word:\n",
    "            j = j - b.count(a)\n",
    "    s.append(j)\n",
    "    w.append('H')\n",
    "\n",
    "    j = 0\n",
    "    for b in word:\n",
    "        j = b.count('B') + j\n",
    "    for a in S3:\n",
    "        for b in word:\n",
    "            j = j - b.count(a)\n",
    "    s.append(j)\n",
    "    w.append('B')\n",
    "\n",
    "    j = 0\n",
    "    for b in word:\n",
    "        j = b.count('C') + j\n",
    "    for a in S4:\n",
    "        for b in word:\n",
    "            j = j - b.count(a)\n",
    "    s.append(j)\n",
    "    w.append('C')\n",
    "\n",
    "    j = 0\n",
    "    for b in word:\n",
    "        j = b.count('N') + j\n",
    "    for a in S5:\n",
    "        for b in word:\n",
    "            j = j - b.count(a)\n",
    "    s.append(j)\n",
    "    w.append('N')\n",
    "\n",
    "    j = 0\n",
    "    for b in word:\n",
    "        j = b.count('O') + j\n",
    "    for a in S6:\n",
    "        for b in word:\n",
    "            j = j - b.count(a)\n",
    "    s.append(j)\n",
    "    w.append('O')\n",
    "\n",
    "    j = 0\n",
    "    for b in word:\n",
    "        j = b.count('F') + j\n",
    "    for a in S7:\n",
    "        for b in word:\n",
    "            j = j - b.count(a)\n",
    "    s.append(j)\n",
    "    w.append('F')\n",
    "\n",
    "    j = 0\n",
    "    for b in word:\n",
    "        j = b.count('P') + j\n",
    "    for a in S8:\n",
    "        for b in word:\n",
    "            j = j - b.count(a)\n",
    "    s.append(j)\n",
    "    w.append('P')\n",
    "\n",
    "    j = 0\n",
    "    for b in word:\n",
    "        j = b.count('S') + j\n",
    "    for a in S9:\n",
    "        for b in word:\n",
    "            j = j - b.count(a)\n",
    "    s.append(j)\n",
    "    w.append('S')\n",
    "\n",
    "    j = 0\n",
    "    for b in word:\n",
    "        j = b.count('K') + j\n",
    "    for a in S10:\n",
    "        for b in word:\n",
    "            j = j - b.count(a)\n",
    "    s.append(j)\n",
    "    w.append('K')\n",
    "\n",
    "    j = 0\n",
    "    for b in word:\n",
    "        j = b.count('Y') + j\n",
    "    for a in S11:\n",
    "        for b in word:\n",
    "            j = j - b.count(a)\n",
    "    s.append(j)\n",
    "    w.append('Y')\n",
    "    \n",
    "    j = 0\n",
    "    for b in word:\n",
    "        j = b.count('I') + j\n",
    "    for a in S12:\n",
    "        for b in word:\n",
    "            j = j - b.count(a)\n",
    "    s.append(j)\n",
    "    w.append('I') \n",
    "    \n",
    "    DF1 = pd.DataFrame({'w':w,'s':s})\n",
    "    DF2 = DF1.sort_values(by='s',ascending=False)\n",
    "    DF3 = DF2[0:10]\n",
    "    DF3_X = DF3['w']\n",
    "    DF3_Y = DF3['s']\n",
    "    plt.bar(DF3_X,DF3_Y)\n",
    "    plt.savefig(outfile)\n",
    "    plt.show()"
   ]
  },
  {
   "cell_type": "code",
   "execution_count": 10,
   "metadata": {},
   "outputs": [],
   "source": [
    "def create_data(N,tmp_): # random > alpha, then here is a edge.\n",
    "    G = np.zeros((N, N))\n",
    "    for i in range(N):\n",
    "        for j in range(N):\n",
    "            if i == j:\n",
    "                continue\n",
    "            n = model.wv.similarity(tmp_[i],tmp_[j])\n",
    "            G[i][j] = n\n",
    "    return G\n",
    "\n",
    "def GtoM(G, N):\n",
    "    M = np.zeros((N, N))\n",
    "    for i in range(N):\n",
    "        D_i = sum(G[i])\n",
    "        if D_i == 0:\n",
    "            continue\n",
    "        for j in range(N):\n",
    "            M[j][i] = G[i][j] / D_i # watch out! M_j_i instead of M_i_j\n",
    "    return M\n",
    "\n",
    "def PageRank(M, N, T, eps=1e-6, beta=0.85):\n",
    "    R = np.ones(N) / N\n",
    "    teleport = np.ones(N) / N\n",
    "    for time in range(T):\n",
    "        R_new = beta * np.dot(M, R) + (1-beta)*teleport\n",
    "        if np.linalg.norm(R_new - R) < eps:\n",
    "            break\n",
    "        R = R_new.copy()\n",
    "    return R_new"
   ]
  },
  {
   "cell_type": "code",
   "execution_count": 11,
   "metadata": {},
   "outputs": [
    {
     "name": "stderr",
     "output_type": "stream",
     "text": [
      "<ipython-input-11-8b63577e37d5>:5: DeprecationWarning: Call to deprecated `__getitem__` (Method will be removed in 4.0.0, use self.wv.__getitem__() instead).\n",
      "  vectors = model[tmp]\n"
     ]
    }
   ],
   "source": [
    "model = Word2Vec.load('./model/word2vec_C.model')\n",
    "data = pd.read_csv('./data/C/tmp.txt', sep='\\t', header=None, names=['化学式'])\n",
    "tmp = list(data['化学式'])\n",
    "\n",
    "vectors = model[tmp]\n",
    "embedd = tsne.fit_transform(vectors)\n",
    "\n",
    "dbscan.fit(embedd)\n",
    "label_pred = dbscan.labels_\n",
    "\n",
    "n_clusters_ = len(set(label_pred)) - (1 if -1 in label_pred else 0)"
   ]
  },
  {
   "cell_type": "code",
   "execution_count": 13,
   "metadata": {},
   "outputs": [
    {
     "data": {
      "image/png": "[encoded data removed]",
      "text/plain": [
       "<Figure size 432x288 with 1 Axes>"
      ]
     },
     "metadata": {
      "needs_background": "light"
     },
     "output_type": "display_data"
    }
   ],
   "source": [
    "a = tmp.index('LiFePO4')\n",
    "b = embedd[a]\n",
    "\n",
    "i = 0\n",
    "j = 0\n",
    "tmp2 = []\n",
    "x = {}\n",
    "while i<n_clusters_:\n",
    "    x[i] = embedd[label_pred == i]\n",
    "    if b in x[i]:\n",
    "        c = i\n",
    "    i +=1\n",
    "    \n",
    "y = embedd[label_pred == c]\n",
    "for w in embedd:\n",
    "    if w in y:\n",
    "        tmp2.append(tmp[j])\n",
    "    j += 1\n",
    "    \n",
    "N = len(tmp2)\n",
    "G = create_data(N,tmp2)\n",
    "M = GtoM(G, N)\n",
    "values = PageRank(M, N, T=100)\n",
    "\n",
    "df = pd.DataFrame({'words':tmp2,'values':values})\n",
    "df.to_csv('./data/C/排名/LiFePO4.csv')\n",
    "outfile = './data/C/图片/LiFePO4_PageRank.jpg'\n",
    "X = JiShu(tmp2,outfile)"
   ]
  },
  {
   "cell_type": "code",
   "execution_count": 14,
   "metadata": {},
   "outputs": [
    {
     "data": {
      "image/png": "[encoded data removed]",
      "text/plain": [
       "<Figure size 432x288 with 1 Axes>"
      ]
     },
     "metadata": {
      "needs_background": "light"
     },
     "output_type": "display_data"
    },
    {
     "data": {
      "image/png": "[encoded data removed]",
      "text/plain": [
       "<Figure size 432x288 with 1 Axes>"
      ]
     },
     "metadata": {
      "needs_background": "light"
     },
     "output_type": "display_data"
    },
    {
     "data": {
      "image/png": "[encoded data removed]",
      "text/plain": [
       "<Figure size 432x288 with 1 Axes>"
      ]
     },
     "metadata": {
      "needs_background": "light"
     },
     "output_type": "display_data"
    },
    {
     "data": {
      "image/png": "[encoded data removed]",
      "text/plain": [
       "<Figure size 432x288 with 1 Axes>"
      ]
     },
     "metadata": {
      "needs_background": "light"
     },
     "output_type": "display_data"
    },
    {
     "data": {
      "image/png": "[encoded data removed]",
      "text/plain": [
       "<Figure size 432x288 with 1 Axes>"
      ]
     },
     "metadata": {
      "needs_background": "light"
     },
     "output_type": "display_data"
    },
    {
     "data": {
      "image/png": "[encoded data removed]",
      "text/plain": [
       "<Figure size 432x288 with 1 Axes>"
      ]
     },
     "metadata": {
      "needs_background": "light"
     },
     "output_type": "display_data"
    },
    {
     "data": {
      "image/png": "[encoded data removed]",
      "text/plain": [
       "<Figure size 432x288 with 1 Axes>"
      ]
     },
     "metadata": {
      "needs_background": "light"
     },
     "output_type": "display_data"
    },
    {
     "data": {
      "image/png": "[encoded data removed]",
      "text/plain": [
       "<Figure size 432x288 with 1 Axes>"
      ]
     },
     "metadata": {
      "needs_background": "light"
     },
     "output_type": "display_data"
    },
    {
     "data": {
      "image/png": "[encoded data removed]",
      "text/plain": [
       "<Figure size 432x288 with 1 Axes>"
      ]
     },
     "metadata": {
      "needs_background": "light"
     },
     "output_type": "display_data"
    },
    {
     "data": {
      "image/png": "[encoded data removed]",
      "text/plain": [
       "<Figure size 432x288 with 1 Axes>"
      ]
     },
     "metadata": {
      "needs_background": "light"
     },
     "output_type": "display_data"
    },
    {
     "data": {
      "image/png": "[encoded data removed]",
      "text/plain": [
       "<Figure size 432x288 with 1 Axes>"
      ]
     },
     "metadata": {
      "needs_background": "light"
     },
     "output_type": "display_data"
    },
    {
     "data": {
      "image/png": "[encoded data removed]",
      "text/plain": [
       "<Figure size 432x288 with 1 Axes>"
      ]
     },
     "metadata": {
      "needs_background": "light"
     },
     "output_type": "display_data"
    }
   ],
   "source": [
    "i = 0\n",
    "tmp4 = []\n",
    "while i<n_clusters_:\n",
    "    x[i] = embedd[label_pred == i]\n",
    "    if len(x[i])>100:\n",
    "        tmp4.append(i)\n",
    "    i += 1\n",
    "\n",
    "path1 = './data/C/排名/'\n",
    "path2 = './data/C/图片/'\n",
    "for a in tmp4:\n",
    "    file_name1 = path1 + str(a)\n",
    "    file_name2 = path2 + str(a)\n",
    "    tmp3 = []\n",
    "    i = 0\n",
    "    y = embedd[label_pred == a]\n",
    "    for w in embedd:\n",
    "        if w in y:\n",
    "            tmp3.append(tmp[i])\n",
    "        i += 1\n",
    "\n",
    "    N = len(tmp3)\n",
    "    G = create_data(N,tmp3)\n",
    "    M = GtoM(G, N)\n",
    "    values = PageRank(M, N, T=100)       \n",
    "    df = pd.DataFrame({'words':tmp3,'values':values})\n",
    "    df.to_csv(file_name1+'.csv')\n",
    "    X = JiShu(tmp3,file_name2+'.jpg')"
   ]
  },
  {
   "cell_type": "code",
   "execution_count": null,
   "metadata": {},
   "outputs": [],
   "source": []
  },
  {
   "cell_type": "code",
   "execution_count": 15,
   "metadata": {},
   "outputs": [],
   "source": [
    "N = len(tmp)\n",
    "G = create_data(N,tmp)\n",
    "M = GtoM(G,N)\n",
    "values = PageRank(M,N,T=100)\n",
    "\n",
    "df = pd.DataFrame({'words':tmp,'values':values})\n",
    "df.to_csv('./data/C/排名/electrolyte.csv')"
   ]
  },
  {
   "cell_type": "code",
   "execution_count": null,
   "metadata": {},
   "outputs": [],
   "source": []
  }
 ],
 "metadata": {
  "kernelspec": {
   "display_name": "Python 3",
   "language": "python",
   "name": "python3"
  },
  "language_info": {
   "codemirror_mode": {
    "name": "ipython",
    "version": 3
   },
   "file_extension": ".py",
   "mimetype": "text/x-python",
   "name": "python",
   "nbconvert_exporter": "python",
   "pygments_lexer": "ipython3",
   "version": "3.8.2"
  }
 },
 "nbformat": 4,
 "nbformat_minor": 4
}
