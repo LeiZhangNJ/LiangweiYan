{
 "cells": [
  {
   "cell_type": "code",
   "execution_count": 1,
   "metadata": {},
   "outputs": [],
   "source": [
    "from chemdataextractor.nlp.tokenize import ChemWordTokenizer\n",
    "from chemdataextractor.doc import Document, Heading, Paragraph\n",
    "import pandas as pd"
   ]
  },
  {
   "cell_type": "code",
   "execution_count": 2,
   "metadata": {},
   "outputs": [
    {
     "data": {
      "text/html": [
       "<div>\n",
       "<style scoped>\n",
       "    .dataframe tbody tr th:only-of-type {\n",
       "        vertical-align: middle;\n",
       "    }\n",
       "\n",
       "    .dataframe tbody tr th {\n",
       "        vertical-align: top;\n",
       "    }\n",
       "\n",
       "    .dataframe thead th {\n",
       "        text-align: right;\n",
       "    }\n",
       "</style>\n",
       "<table border=\"1\" class=\"dataframe\">\n",
       "  <thead>\n",
       "    <tr style=\"text-align: right;\">\n",
       "      <th></th>\n",
       "      <th>Abstract</th>\n",
       "    </tr>\n",
       "  </thead>\n",
       "  <tbody>\n",
       "    <tr>\n",
       "      <th>0</th>\n",
       "      <td>Solid electrolyte interphases generated using ...</td>\n",
       "    </tr>\n",
       "    <tr>\n",
       "      <th>1</th>\n",
       "      <td>Metal fluorides, promising lithium-ion battery...</td>\n",
       "    </tr>\n",
       "    <tr>\n",
       "      <th>2</th>\n",
       "      <td>Electrochemically reversible redox couples tha...</td>\n",
       "    </tr>\n",
       "    <tr>\n",
       "      <th>3</th>\n",
       "      <td>The realisation of fast-charging lithium-ion b...</td>\n",
       "    </tr>\n",
       "    <tr>\n",
       "      <th>4</th>\n",
       "      <td>Energy storage devices using electrochemical r...</td>\n",
       "    </tr>\n",
       "  </tbody>\n",
       "</table>\n",
       "</div>"
      ],
      "text/plain": [
       "                                            Abstract\n",
       "0  Solid electrolyte interphases generated using ...\n",
       "1  Metal fluorides, promising lithium-ion battery...\n",
       "2  Electrochemically reversible redox couples tha...\n",
       "3  The realisation of fast-charging lithium-ion b...\n",
       "4  Energy storage devices using electrochemical r..."
      ]
     },
     "execution_count": 2,
     "metadata": {},
     "output_type": "execute_result"
    }
   ],
   "source": [
    "data = pd.read_csv('./data/C/data.txt',header=None, names=['Abstract'])\n",
    "df = pd.DataFrame(data['Abstract'])\n",
    "lists = df.values.tolist()\n",
    "data.head()"
   ]
  },
  {
   "cell_type": "code",
   "execution_count": null,
   "metadata": {},
   "outputs": [],
   "source": [
    "with open('./data/C/cems.txt', 'a', encoding='utf-8') as file_handle:\n",
    "    for L1 in lists:\n",
    "        L2 = ''.join('%s' %i for i in L1)\n",
    "        para = Paragraph(L2)\n",
    "        X = para.cems\n",
    "        for Z in X:\n",
    "            file_handle.write(str(Z))\n",
    "            file_handle.write('\\n')\n",
    "            #print(Z)\n",
    "            \n",
    "s = []\n",
    "f = open('./data/C/cems.txt', 'r', encoding='utf-8')\n",
    "for lines in f:\n",
    "    ls = lines.strip('\\n').replace(' ','').replace('、','/').replace('?','').split('/')\n",
    "    for i in ls:\n",
    "        if not i in s:\n",
    "            s.append(i)\n",
    "f.close()\n",
    "#print(s)\n",
    "\n",
    "f1 = open('./data/C/化学式.txt', 'w')\n",
    "for j in s:\n",
    "    f1.write(j+'\\n')\n",
    "f1.close()"
   ]
  },
  {
   "cell_type": "code",
   "execution_count": null,
   "metadata": {},
   "outputs": [],
   "source": []
  }
 ],
 "metadata": {
  "kernelspec": {
   "display_name": "Python 3",
   "language": "python",
   "name": "python3"
  },
  "language_info": {
   "codemirror_mode": {
    "name": "ipython",
    "version": 3
   },
   "file_extension": ".py",
   "mimetype": "text/x-python",
   "name": "python",
   "nbconvert_exporter": "python",
   "pygments_lexer": "ipython3",
   "version": "3.8.2"
  }
 },
 "nbformat": 4,
 "nbformat_minor": 4
}
