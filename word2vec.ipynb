{
 "cells": [
  {
   "cell_type": "code",
   "execution_count": 1,
   "metadata": {},
   "outputs": [],
   "source": [
    "from gensim.models import Word2Vec\n",
    "from gensim.models import word2vec\n",
    "from gensim.models.word2vec import LineSentence\n",
    "import pandas as pd\n",
    "import matplotlib.pyplot as plt"
   ]
  },
  {
   "cell_type": "code",
   "execution_count": 2,
   "metadata": {},
   "outputs": [],
   "source": [
    "sentences1 = word2vec.LineSentence('./data/battery/data.txt')\n",
    "model1 = Word2Vec(sentences1, size=200, sg=1, window=8, negative=15,alpha=0.01, sample=1e-4, iter=5)\n",
    "model1.save('./model/word2vec_battery.model')"
   ]
  },
  {
   "cell_type": "code",
   "execution_count": 3,
   "metadata": {},
   "outputs": [],
   "source": [
    "#model1.most_similar(positive=[], negative=[], topn=)\n",
    "#cathode,electrolyte,anode,battery,capacitance,photovoltaics,organic\n",
    "#LiFePO4,PbTe,BaTiO3,C2H4,Li4Ti5O12"
   ]
  },
  {
   "cell_type": "code",
   "execution_count": 4,
   "metadata": {},
   "outputs": [],
   "source": [
    "model = Word2Vec.load('./model/word2vec_battery.model')\n",
    "\n",
    "cems = []\n",
    "f = open('./data/battery/化学式.txt','r',encoding='utf-8')\n",
    "for lines in f:\n",
    "    ls = lines.strip('\\n').replace(' ','').replace('、','/').replace('?','').split('/')\n",
    "    for i in ls:\n",
    "        cems.append(i)\n",
    "f.close()\n",
    "#print(cems)\n",
    "\n",
    "words = model.wv.index2word\n",
    "#print(words)\n",
    "\n",
    "tmp = [val for val in cems if val in words]\n",
    "#print(tmp)\n",
    "\n",
    "s =[]\n",
    "f = open('./data/battery/tmp.txt', 'w')\n",
    "for t in tmp:\n",
    "    if not t in s:\n",
    "        s.append(t)\n",
    "for j in s:\n",
    "    f.write(j+'\\n')\n",
    "f.close()"
   ]
  },
  {
   "cell_type": "code",
   "execution_count": 5,
   "metadata": {},
   "outputs": [],
   "source": [
    "a = []\n",
    "b = []\n",
    "for x in tmp:\n",
    "    y = model.wv.similarity(u\"cathode\",x)\n",
    "    a.append(str(x))\n",
    "    b.append(str(y))\n",
    "df = pd.DataFrame({'化学式':a,'相关度':b})\n",
    "df.to_csv('./data/battery/相关度/cathode.csv',index=False,sep=',')\n",
    "\n",
    "a = []\n",
    "b = []\n",
    "for x in tmp:\n",
    "    y = model.wv.similarity(u\"anode\",x)\n",
    "    a.append(str(x))\n",
    "    b.append(str(y))\n",
    "df = pd.DataFrame({'化学式':a,'相关度':b})\n",
    "df.to_csv('./data/battery/相关度/anode.csv',index=False,sep=',')\n",
    "\n",
    "a = []\n",
    "b = []\n",
    "for x in tmp:\n",
    "    y = model.wv.similarity(u\"electrolyte\",x)\n",
    "    a.append(str(x))\n",
    "    b.append(str(y))\n",
    "df = pd.DataFrame({'化学式':a,'相关度':b})\n",
    "df.to_csv('./data/battery/相关度/electrolyte.csv',index=False,sep=',')\n",
    "\n",
    "a = []\n",
    "b = []\n",
    "for x in tmp:\n",
    "    y = model.wv.similarity(u\"battery\",x)\n",
    "    a.append(str(x))\n",
    "    b.append(str(y))\n",
    "df = pd.DataFrame({'化学式':a,'相关度':b})\n",
    "df.to_csv('./data/battery/相关度/battery.csv',index=False,sep=',')\n"
   ]
  },
  {
   "cell_type": "code",
   "execution_count": 6,
   "metadata": {},
   "outputs": [],
   "source": [
    "a = []\n",
    "b = []\n",
    "for x in tmp:\n",
    "    y = model.wv.similarity(u\"capacitance\",x)\n",
    "    a.append(str(x))\n",
    "    b.append(str(y))\n",
    "df = pd.DataFrame({'化学式':a,'相关度':b})\n",
    "df.to_csv('./data/C/相关度/capacitance.csv',index=False,sep=',')\n",
    "\n",
    "a = []\n",
    "b = []\n",
    "for x in tmp:\n",
    "    y = model.wv.similarity(u\"photovoltaic\",x)\n",
    "    a.append(str(x))\n",
    "    b.append(str(y))\n",
    "df = pd.DataFrame({'化学式':a,'相关度':b})\n",
    "df.to_csv('./data/C/相关度/photovoltaic.csv',index=False,sep=',')\n",
    "\n",
    "a = []\n",
    "b = []\n",
    "for x in tmp:\n",
    "    y = model.wv.similarity(u\"organic\",x)\n",
    "    a.append(str(x))\n",
    "    b.append(str(y))\n",
    "df = pd.DataFrame({'化学式':a,'相关度':b})\n",
    "df.to_csv('./data/C/相关度/organic.csv',index=False,sep=',')"
   ]
  },
  {
   "cell_type": "code",
   "execution_count": null,
   "metadata": {},
   "outputs": [],
   "source": []
  },
  {
   "cell_type": "code",
   "execution_count": 28,
   "metadata": {},
   "outputs": [],
   "source": [
    "model = Word2Vec.load('./model/word2vec_C.model')"
   ]
  },
  {
   "cell_type": "code",
   "execution_count": 29,
   "metadata": {
    "collapsed": true
   },
   "outputs": [
    {
     "name": "stderr",
     "output_type": "stream",
     "text": [
      "<ipython-input-29-4134065c0da0>:1: DeprecationWarning: Call to deprecated `most_similar` (Method will be removed in 4.0.0, use self.wv.most_similar() instead).\n",
      "  result = model.most_similar(positive=['metal','oxide'],topn=20)\n"
     ]
    },
    {
     "data": {
      "text/plain": [
       "[('oxide,', 0.8218827247619629),\n",
       " ('oxides', 0.8168164491653442),\n",
       " ('tin', 0.7849130630493164),\n",
       " ('nickel', 0.7848947048187256),\n",
       " ('cobalt', 0.7834274768829346),\n",
       " ('(ZnO)', 0.7794893980026245),\n",
       " ('(Cu)', 0.7718042135238647),\n",
       " ('reducible', 0.7714165449142456),\n",
       " ('(rGO)', 0.7677028179168701),\n",
       " ('(RGO)', 0.7664636373519897),\n",
       " ('tin-doped', 0.7655912041664124),\n",
       " ('oxide.', 0.762582540512085),\n",
       " ('copper', 0.7611159086227417),\n",
       " ('(ITO)', 0.7610678672790527),\n",
       " ('oxides,', 0.7604122161865234),\n",
       " ('(GO),', 0.7601630687713623),\n",
       " ('Metal', 0.7572307586669922),\n",
       " ('cerium', 0.7536608576774597),\n",
       " ('Indium', 0.7520538568496704),\n",
       " ('Oxide', 0.7511243224143982)]"
      ]
     },
     "execution_count": 29,
     "metadata": {},
     "output_type": "execute_result"
    }
   ],
   "source": [
    "result = model.most_similar(positive=['metal','oxide'],topn=20)\n",
    "result"
   ]
  },
  {
   "cell_type": "code",
   "execution_count": 32,
   "metadata": {},
   "outputs": [
    {
     "name": "stderr",
     "output_type": "stream",
     "text": [
      "<ipython-input-32-1c1a8284bf2e>:1: DeprecationWarning: Call to deprecated `most_similar` (Method will be removed in 4.0.0, use self.wv.most_similar() instead).\n",
      "  result = model.most_similar(positive=['anode','battery'],negative=['cathode'],topn=20)\n"
     ]
    },
    {
     "data": {
      "text/plain": [
       "[('lithium-ion', 0.8664464354515076),\n",
       " ('batteries', 0.8573218584060669),\n",
       " ('rechargeable', 0.8445529937744141),\n",
       " ('Li-ion', 0.8399221301078796),\n",
       " ('batteries.', 0.8358259201049805),\n",
       " ('all-solid-state', 0.8253735899925232),\n",
       " ('batteries,', 0.8218424320220947),\n",
       " ('cathodes', 0.8168824911117554),\n",
       " ('anodes', 0.8167832493782043),\n",
       " ('battery.', 0.8099297881126404),\n",
       " ('supercapacitors', 0.8058422207832336),\n",
       " ('sodium-ion', 0.8011080026626587),\n",
       " ('high-voltage', 0.7956700325012207),\n",
       " ('high-rate', 0.7669569849967957),\n",
       " ('batteries.\"', 0.7566239237785339),\n",
       " ('supercapacitor', 0.7558244466781616),\n",
       " ('lithium', 0.7543942928314209),\n",
       " ('Na-ion', 0.7532342672348022),\n",
       " ('battery,', 0.7492984533309937),\n",
       " ('lithium-sulfur', 0.7479637265205383)]"
      ]
     },
     "execution_count": 32,
     "metadata": {},
     "output_type": "execute_result"
    }
   ],
   "source": [
    "result = model.most_similar(positive=['anode','battery'],negative=['cathode'],topn=20)\n",
    "result"
   ]
  },
  {
   "cell_type": "code",
   "execution_count": 33,
   "metadata": {
    "collapsed": true
   },
   "outputs": [
    {
     "name": "stderr",
     "output_type": "stream",
     "text": [
      "<ipython-input-33-0cdc3b1a0478>:1: DeprecationWarning: Call to deprecated `most_similar` (Method will be removed in 4.0.0, use self.wv.most_similar() instead).\n",
      "  result = model.most_similar(positive=['cathode','anode'],topn=20)\n"
     ]
    },
    {
     "data": {
      "text/plain": [
       "[('lithium-ion', 0.8928300142288208),\n",
       " ('cathodes', 0.8908677101135254),\n",
       " ('Li-ion', 0.8837205171585083),\n",
       " ('anodes', 0.8771865367889404),\n",
       " ('batteries.', 0.874756932258606),\n",
       " ('rechargeable', 0.8623003363609314),\n",
       " ('battery', 0.8567440509796143),\n",
       " ('anode,', 0.8557562828063965),\n",
       " ('sodium-ion', 0.8500680923461914),\n",
       " ('battery.', 0.8425648212432861),\n",
       " ('batteries,', 0.833545446395874),\n",
       " ('electrode', 0.8313685655593872),\n",
       " ('batteries', 0.8275589942932129),\n",
       " ('cathode.', 0.8267993330955505),\n",
       " ('cathode,', 0.8246530890464783),\n",
       " ('anode.', 0.8227779269218445),\n",
       " ('electrolyte,', 0.8196967840194702),\n",
       " ('electrolyte', 0.8177963495254517),\n",
       " ('electrolyte.', 0.8170163631439209),\n",
       " ('separator', 0.8104729652404785)]"
      ]
     },
     "execution_count": 33,
     "metadata": {},
     "output_type": "execute_result"
    }
   ],
   "source": [
    "result = model.most_similar(positive=['cathode','anode'],topn=20)\n",
    "result"
   ]
  },
  {
   "cell_type": "code",
   "execution_count": 47,
   "metadata": {},
   "outputs": [],
   "source": [
    "model = Word2Vec.load('./model/word2vec_battery.model')"
   ]
  },
  {
   "cell_type": "code",
   "execution_count": 48,
   "metadata": {},
   "outputs": [
    {
     "name": "stderr",
     "output_type": "stream",
     "text": [
      "<ipython-input-48-9e8464004d58>:1: DeprecationWarning: Call to deprecated `most_similar` (Method will be removed in 4.0.0, use self.wv.most_similar() instead).\n",
      "  result = model.most_similar(positive=['Metal','oxide'],topn=100)\n"
     ]
    },
    {
     "data": {
      "text/plain": [
       "[('oxide,', 0.9742903709411621),\n",
       " ('nanocrystals,', 0.9702585935592651),\n",
       " ('(Cu)', 0.9679408669471741),\n",
       " ('niobium', 0.9663375616073608),\n",
       " ('hydrogenated', 0.9662932753562927),\n",
       " ('(LDH)', 0.9659335613250732),\n",
       " ('oxide.', 0.9651299715042114),\n",
       " ('nanoplatelets', 0.9646578431129456),\n",
       " ('(TiO2)', 0.9634969830513),\n",
       " ('aluminum', 0.9634295701980591),\n",
       " ('encapsulating', 0.9622418880462646),\n",
       " ('support.', 0.9619600772857666),\n",
       " ('supports.', 0.961426854133606),\n",
       " ('selenide', 0.9613676071166992),\n",
       " ('sulfur-doped', 0.9609564542770386),\n",
       " ('oxides.', 0.9608997702598572),\n",
       " ('quaternary', 0.9607921242713928),\n",
       " ('(GO),', 0.9607064723968506),\n",
       " ('carbide', 0.9606863260269165),\n",
       " ('superlattices', 0.960343062877655),\n",
       " ('encapsulation', 0.9601448774337769),\n",
       " ('titanate', 0.9596924185752869),\n",
       " ('electronically', 0.9595980644226074),\n",
       " ('hydroxides', 0.9595719575881958),\n",
       " ('antimony', 0.9592650532722473),\n",
       " ('carbides', 0.959221363067627),\n",
       " ('tin-doped', 0.9591119885444641),\n",
       " ('close-packed', 0.9589595198631287),\n",
       " ('RuO2', 0.9586181044578552),\n",
       " ('diselenide', 0.9583985805511475),\n",
       " ('(rGO),', 0.9580051898956299),\n",
       " ('three-dimensionally', 0.9579377174377441),\n",
       " ('phthalocyanine', 0.9579005241394043),\n",
       " ('sp2', 0.9578649997711182),\n",
       " ('\"Mesoporous', 0.9577869176864624),\n",
       " ('tantalum', 0.9577364325523376),\n",
       " ('aluminium', 0.9575822353363037),\n",
       " ('nanosized', 0.9575114846229553),\n",
       " ('i.e.', 0.9572443962097168),\n",
       " ('intercalated', 0.9569355249404907),\n",
       " ('nanofibres', 0.9568789005279541),\n",
       " ('(NSs)', 0.956861138343811),\n",
       " ('fluorine', 0.9568495154380798),\n",
       " ('zirconium', 0.9567146301269531),\n",
       " ('tungsten', 0.956710696220398),\n",
       " ('\"Novel', 0.9566911458969116),\n",
       " ('conformally', 0.9566413760185242),\n",
       " ('graphite,', 0.9566214680671692),\n",
       " ('catalyst-free', 0.9565466642379761),\n",
       " ('\"Hexagonal', 0.9564305543899536),\n",
       " ('dichalcogenide', 0.9564106464385986),\n",
       " ('walled', 0.9563195705413818),\n",
       " ('1T', 0.9560955762863159),\n",
       " ('well-ordered', 0.9560023546218872),\n",
       " ('mesocrystals', 0.9558326005935669),\n",
       " ('arranged', 0.9558213949203491),\n",
       " ('crystalline,', 0.9557159543037415),\n",
       " ('(RGO)', 0.9556025266647339),\n",
       " ('facilely', 0.9554632902145386),\n",
       " ('alloyed', 0.955460786819458),\n",
       " ('solvents.', 0.9554375410079956),\n",
       " ('hybridized', 0.9553898572921753),\n",
       " ('uniform,', 0.955331027507782),\n",
       " ('molecularly', 0.9553056359291077),\n",
       " ('foam,', 0.9551863074302673),\n",
       " ('nitrides', 0.9551749229431152),\n",
       " ('curved', 0.9551594257354736),\n",
       " ('zirconia', 0.9549922347068787),\n",
       " ('fillers', 0.9549716711044312),\n",
       " ('framework.', 0.9548255205154419),\n",
       " ('micrometre-sized', 0.954714834690094),\n",
       " ('route,', 0.9546715021133423),\n",
       " ('reinforced', 0.9544637799263),\n",
       " ('SBA-15', 0.9544006586074829),\n",
       " ('laminated', 0.9543545246124268),\n",
       " ('nanorods,', 0.9540665149688721),\n",
       " ('embedding', 0.9537807106971741),\n",
       " ('(AgNWs)', 0.9537692666053772),\n",
       " ('\"Amorphous', 0.9537677764892578),\n",
       " ('MoS2,', 0.9537628889083862),\n",
       " ('suspensions', 0.953563928604126),\n",
       " ('(PANI)', 0.9535258412361145),\n",
       " ('holey', 0.9535020589828491),\n",
       " ('NiFe', 0.9534671902656555),\n",
       " ('pyrolytic', 0.9534646272659302),\n",
       " ('zero-dimensional', 0.9533778429031372),\n",
       " ('Porous', 0.9533677101135254),\n",
       " ('pentoxide', 0.9533565044403076),\n",
       " ('nanodots', 0.9533404111862183),\n",
       " ('Mesoporous', 0.9533170461654663),\n",
       " ('Highly', 0.9532358646392822),\n",
       " ('anchor', 0.9532353281974792),\n",
       " ('Amorphous', 0.9530751705169678),\n",
       " ('(Ag', 0.9530515670776367),\n",
       " ('nanocarbon', 0.9529682397842407),\n",
       " ('Silver', 0.9529653787612915),\n",
       " ('microspheres,', 0.9529479742050171),\n",
       " ('(3D', 0.9528713822364807),\n",
       " ('trioxide', 0.9526594281196594),\n",
       " ('fluorinated', 0.9526209831237793)]"
      ]
     },
     "execution_count": 48,
     "metadata": {},
     "output_type": "execute_result"
    }
   ],
   "source": [
    "result = model.most_similar(positive=['Metal','oxide'],topn=100)\n",
    "result"
   ]
  },
  {
   "cell_type": "code",
   "execution_count": 36,
   "metadata": {},
   "outputs": [
    {
     "name": "stderr",
     "output_type": "stream",
     "text": [
      "<ipython-input-36-1c1a8284bf2e>:1: DeprecationWarning: Call to deprecated `most_similar` (Method will be removed in 4.0.0, use self.wv.most_similar() instead).\n",
      "  result = model.most_similar(positive=['anode','battery'],negative=['cathode'],topn=20)\n"
     ]
    },
    {
     "data": {
      "text/plain": [
       "[('Li-ion', 0.9376788139343262),\n",
       " ('all-solid-state', 0.9369702339172363),\n",
       " ('lithium-ion', 0.9338666796684265),\n",
       " ('high-voltage', 0.9282602667808533),\n",
       " ('sodium-ion', 0.9278765916824341),\n",
       " ('battery.', 0.9259330034255981),\n",
       " ('high-capacity', 0.9176750183105469),\n",
       " ('lithium-sulfur', 0.9159205555915833),\n",
       " ('solid-state', 0.9141298532485962),\n",
       " ('Na-ion', 0.9134383201599121),\n",
       " ('batteries', 0.913023829460144),\n",
       " ('rechargeable', 0.9125741124153137),\n",
       " ('(LIBs)', 0.909755527973175),\n",
       " ('anodes', 0.9094052314758301),\n",
       " ('batteries,', 0.9093754291534424),\n",
       " ('batteries.', 0.9089525938034058),\n",
       " ('battery,', 0.9086676836013794),\n",
       " ('(LIB)', 0.9082629680633545),\n",
       " ('lithium–sulfur', 0.9023525714874268),\n",
       " ('high-energy-density', 0.9008203148841858)]"
      ]
     },
     "execution_count": 36,
     "metadata": {},
     "output_type": "execute_result"
    }
   ],
   "source": [
    "result = model.most_similar(positive=['anode','battery'],negative=['cathode'],topn=20)\n",
    "result"
   ]
  },
  {
   "cell_type": "code",
   "execution_count": 37,
   "metadata": {
    "collapsed": true
   },
   "outputs": [
    {
     "name": "stderr",
     "output_type": "stream",
     "text": [
      "<ipython-input-37-0cdc3b1a0478>:1: DeprecationWarning: Call to deprecated `most_similar` (Method will be removed in 4.0.0, use self.wv.most_similar() instead).\n",
      "  result = model.most_similar(positive=['cathode','anode'],topn=20)\n"
     ]
    },
    {
     "data": {
      "text/plain": [
       "[('anode.', 0.9556984305381775),\n",
       " ('anode,', 0.9498297572135925),\n",
       " ('cathodes', 0.9424915313720703),\n",
       " ('battery.', 0.9391240477561951),\n",
       " ('anodes', 0.9387698173522949),\n",
       " ('separator', 0.9384123086929321),\n",
       " ('Li-ion', 0.9380094408988953),\n",
       " ('cathode,', 0.9350494146347046),\n",
       " ('batteries.', 0.9328691363334656),\n",
       " ('sodium-ion', 0.9322473406791687),\n",
       " ('lithium-oxygen', 0.9291624426841736),\n",
       " ('battery,', 0.926917314529419),\n",
       " ('electrolyte.', 0.9262229204177856),\n",
       " ('(LIBs).', 0.9257996678352356),\n",
       " ('Na-ion', 0.924095869064331),\n",
       " ('electrolyte,', 0.9220207929611206),\n",
       " ('material', 0.9209380745887756),\n",
       " ('dendrite-free', 0.9209368824958801),\n",
       " ('lithium', 0.9195613861083984),\n",
       " ('lithium-ion', 0.9189955592155457)]"
      ]
     },
     "execution_count": 37,
     "metadata": {},
     "output_type": "execute_result"
    }
   ],
   "source": [
    "result = model.most_similar(positive=['cathode','anode'],topn=20)\n",
    "result"
   ]
  },
  {
   "cell_type": "code",
   "execution_count": 42,
   "metadata": {},
   "outputs": [],
   "source": [
    "model = Word2Vec.load('./model/word2vec_anode.model')"
   ]
  },
  {
   "cell_type": "code",
   "execution_count": 43,
   "metadata": {
    "collapsed": true
   },
   "outputs": [
    {
     "name": "stderr",
     "output_type": "stream",
     "text": [
      "<ipython-input-43-3dd9d5c73b91>:1: DeprecationWarning: Call to deprecated `most_similar` (Method will be removed in 4.0.0, use self.wv.most_similar() instead).\n",
      "  result = model.most_similar(positive=['anode','battery'],negative=['cathode'],topn=10)\n"
     ]
    },
    {
     "data": {
      "text/plain": [
       "[('lithium-ion', 0.9991847276687622),\n",
       " ('storage', 0.9990125894546509),\n",
       " ('lithium', 0.9990002512931824),\n",
       " ('material', 0.9989073872566223),\n",
       " ('energy', 0.9986891150474548),\n",
       " ('anodes', 0.9986751675605774),\n",
       " ('batteries,', 0.9985792636871338),\n",
       " ('batteries', 0.9985505938529968),\n",
       " ('Li-ion', 0.9984946250915527),\n",
       " ('theoretical', 0.9984015226364136)]"
      ]
     },
     "execution_count": 43,
     "metadata": {},
     "output_type": "execute_result"
    }
   ],
   "source": [
    "result = model.most_similar(positive=['anode','battery'],negative=['cathode'],topn=10)\n",
    "result"
   ]
  },
  {
   "cell_type": "code",
   "execution_count": 45,
   "metadata": {
    "collapsed": true
   },
   "outputs": [
    {
     "name": "stderr",
     "output_type": "stream",
     "text": [
      "<ipython-input-45-4134065c0da0>:1: DeprecationWarning: Call to deprecated `most_similar` (Method will be removed in 4.0.0, use self.wv.most_similar() instead).\n",
      "  result = model.most_similar(positive=['metal','oxide'],topn=20)\n"
     ]
    },
    {
     "data": {
      "text/plain": [
       "[('(LIBs)', 0.9996322989463806),\n",
       " ('hindered', 0.9996194243431091),\n",
       " ('alloy', 0.9996192455291748),\n",
       " ('issues', 0.9996109008789062),\n",
       " ('address', 0.9996090531349182),\n",
       " ('ideal', 0.9996089339256287),\n",
       " ('molten', 0.9996031522750854),\n",
       " ('dendritic', 0.9996018409729004),\n",
       " ('concern', 0.9996012449264526),\n",
       " ('indium', 0.9995974898338318),\n",
       " ('anode.', 0.99959397315979),\n",
       " ('main', 0.9995930194854736),\n",
       " ('strategy', 0.9995884895324707),\n",
       " ('highly', 0.9995856881141663),\n",
       " ('synthesize', 0.9995850324630737),\n",
       " ('liquid', 0.9995843172073364),\n",
       " ('known', 0.9995813369750977),\n",
       " ('regarded', 0.999579668045044),\n",
       " ('(Si)', 0.999579668045044),\n",
       " ('strategies', 0.9995795488357544)]"
      ]
     },
     "execution_count": 45,
     "metadata": {},
     "output_type": "execute_result"
    }
   ],
   "source": [
    "result = model.most_similar(positive=['metal','oxide'],topn=20)\n",
    "result"
   ]
  },
  {
   "cell_type": "code",
   "execution_count": null,
   "metadata": {},
   "outputs": [],
   "source": []
  }
 ],
 "metadata": {
  "kernelspec": {
   "display_name": "Python 3",
   "language": "python",
   "name": "python3"
  },
  "language_info": {
   "codemirror_mode": {
    "name": "ipython",
    "version": 3
   },
   "file_extension": ".py",
   "mimetype": "text/x-python",
   "name": "python",
   "nbconvert_exporter": "python",
   "pygments_lexer": "ipython3",
   "version": "3.8.2"
  }
 },
 "nbformat": 4,
 "nbformat_minor": 4
}
